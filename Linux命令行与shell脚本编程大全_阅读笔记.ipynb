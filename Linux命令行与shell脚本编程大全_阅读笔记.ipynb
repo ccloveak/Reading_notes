{
  "nbformat": 4,
  "nbformat_minor": 0,
  "metadata": {
    "colab": {
      "name": "Linux命令行与shell脚本编程大全_阅读笔记.ipynb",
      "provenance": [],
      "authorship_tag": "ABX9TyONGCWvU7rsExSheVKk/Bbj",
      "include_colab_link": true
    },
    "kernelspec": {
      "name": "python3",
      "display_name": "Python 3"
    }
  },
  "cells": [
    {
      "cell_type": "markdown",
      "metadata": {
        "id": "view-in-github",
        "colab_type": "text"
      },
      "source": [
        "<a href=\"https://colab.research.google.com/github/ccloveak/Reading_notes/blob/master/Linux%E5%91%BD%E4%BB%A4%E8%A1%8C%E4%B8%8Eshell%E8%84%9A%E6%9C%AC%E7%BC%96%E7%A8%8B%E5%A4%A7%E5%85%A8_%E9%98%85%E8%AF%BB%E7%AC%94%E8%AE%B0.ipynb\" target=\"_parent\"><img src=\"https://colab.research.google.com/assets/colab-badge.svg\" alt=\"Open In Colab\"/></a>"
      ]
    },
    {
      "cell_type": "markdown",
      "metadata": {
        "id": "kZTqIqXccjJc",
        "colab_type": "text"
      },
      "source": [
        "# 初识Linux shell"
      ]
    },
    {
      "cell_type": "markdown",
      "metadata": {
        "id": "JMljp7lzptnv",
        "colab_type": "text"
      },
      "source": [
        "##什么是Linux"
      ]
    },
    {
      "cell_type": "markdown",
      "metadata": {
        "id": "1MPXf2p_pwvh",
        "colab_type": "text"
      },
      "source": [
        "### Linux可划分为以下四部分\n",
        "* Linux内核\n",
        "* GNU工具\n",
        "* 图形化桌面环境\n",
        "* 应用软件\n"
      ]
    },
    {
      "cell_type": "markdown",
      "metadata": {
        "id": "0cLAtr29p7OP",
        "colab_type": "text"
      },
      "source": [
        "###深入探究Linux内核\n",
        "Linux系统的核心是内核。内核控制着计算机系统上的所有硬件和软件，在必要时分配硬件， 并根据需要执行软件。\n"
      ]
    },
    {
      "cell_type": "markdown",
      "metadata": {
        "id": "5WKeybooqJ8I",
        "colab_type": "text"
      },
      "source": [
        "内核主要负责以下四种功能: \n",
        "* 系统内存管理\n",
        "* 软件程序管理\n",
        "* 硬件设备管理\n",
        "* 文件系统管理"
      ]
    },
    {
      "cell_type": "markdown",
      "metadata": {
        "id": "o5Do9_UpqJ-4",
        "colab_type": "text"
      },
      "source": [
        "1. 系统内存管理   \n",
        "操作系统内核的主要功能之一就是内存管理。  \n",
        "内核不仅管理服务器上的可用物理内存，还可以创建和管理虚拟内存(即实际并不存在的内存)。"
      ]
    },
    {
      "cell_type": "markdown",
      "metadata": {
        "id": "-SRBaJNOqKL3",
        "colab_type": "text"
      },
      "source": [
        "2. 软件程序管理  \n",
        "Linux操作系统将运行中的程序称为进程。  \n",
        "进程可以在前台运行，将输出显示在屏幕上，也可以在后台运行，隐藏到幕后。  \n",
        "内核控制着Linux系统如何管理运行在系统上的所有进程。"
      ]
    },
    {
      "cell_type": "markdown",
      "metadata": {
        "id": "oZ5fMY_1qKaY",
        "colab_type": "text"
      },
      "source": [
        "3. 硬件设备管理 内核的另一职责是管理硬件设备。  \n",
        "* 任何Linux系统需要与之通信的设备，都需要在内核代码中加入其驱动程序代码。  \n",
        "* 驱动程序代码相当于应用程序和硬件设备的中间人，允许内核与设备之间交换数据。  \n",
        "* 在Linux内核中有两种方法用于插入设备驱动代码:\n",
        "    * 编译进内核的设备驱动代码\n",
        "    * 可插入内核的设备驱动模块(内核模块化)\n",
        "* Linux系统将硬件设备当成特殊的文件，称为设备文件。设备文件有3种分类:\n",
        "    * 字符型设备文件\n",
        "    * 块设备文件\n",
        "    * 网络设备文件"
      ]
    },
    {
      "cell_type": "markdown",
      "metadata": {
        "id": "piEcmmy9qKuZ",
        "colab_type": "text"
      },
      "source": [
        "4. 文件系统管理  \n",
        "Linux内核支持通过不同类型的文件系统从硬盘中读写数据。\n",
        "Linux支持从其他操作系统(比如Microsoft Windows)采用的文件系统中读写数据。  \n",
        "内核必须在编译时就加入对所有可能用到的文件系统的支持。"
      ]
    },
    {
      "cell_type": "markdown",
      "metadata": {
        "id": "sv6g3G3_qLJp",
        "colab_type": "text"
      },
      "source": [
        "###GNU 工具"
      ]
    },
    {
      "cell_type": "markdown",
      "metadata": {
        "id": "8nzatlSvqLHR",
        "colab_type": "text"
      },
      "source": [
        "1. 核心GNU工具\n",
        "* GNU项目的主旨在于为Unix系统管理员设计出一套类似于Unix的环境。\n",
        "* 这个目标促使该项目移植了很多常见的Unix系统命令行工具。\n",
        "* 供Linux系统使用的这组核心工具被称为coreutils(core 5 utilities)软件包。\n",
        "* GNU coreutils软件包由三部分构成:\n",
        "    * 用以处理文件的工具\n",
        "    * 用以操作文本的工具\n",
        "    * 用以管理进程的工具"
      ]
    },
    {
      "cell_type": "markdown",
      "metadata": {
        "id": "xtrX0sELqLEY",
        "colab_type": "text"
      },
      "source": [
        "2. shell\n",
        "* GNU/Linux shell是一种特殊的交互式工具。\n",
        "* 它为用户提供了启动程序、管理文件系统中的文件以及运行在Linux系统上的进程的途径。\n",
        "* shell的核心是命令行提示符。\n",
        "* 命令行提示符是shell负责交互的部分。\n",
        "* 允许你输入文本命令，然后解释命令，并在内核中执行。"
      ]
    },
    {
      "cell_type": "markdown",
      "metadata": {
        "id": "JBgEbJ_RqLB_",
        "colab_type": "text"
      },
      "source": [
        "### Linux 桌面环境"
      ]
    },
    {
      "cell_type": "markdown",
      "metadata": {
        "id": "MCG-KjUnqK_i",
        "colab_type": "text"
      },
      "source": [
        "1. X Window系统"
      ]
    },
    {
      "cell_type": "markdown",
      "metadata": {
        "id": "qXLUh3AXqK9U",
        "colab_type": "text"
      },
      "source": [
        "2. KDE桌面"
      ]
    },
    {
      "cell_type": "markdown",
      "metadata": {
        "id": "CYkKpJFyqK7Q",
        "colab_type": "text"
      },
      "source": [
        "3. GNOME桌面\n",
        "* GNOME于1999年首次发布，现已成为许多Linux发行版默认的桌面环境\n",
        "* 用得最多的是Red Hat Linux"
      ]
    },
    {
      "cell_type": "markdown",
      "metadata": {
        "id": "XqsK2IPrqK5d",
        "colab_type": "text"
      },
      "source": [
        "4. Unity桌面\n",
        "* Ubuntu Linux发行版"
      ]
    },
    {
      "cell_type": "markdown",
      "metadata": {
        "id": "SDgOv1Y0qK3n",
        "colab_type": "text"
      },
      "source": [
        "## Linux 发行版"
      ]
    },
    {
      "cell_type": "markdown",
      "metadata": {
        "id": "8YAgPR0BqKsQ",
        "colab_type": "text"
      },
      "source": [
        "不同的Linux发行版通常归类为3种:\n",
        "* 完整的核心Linux发行版\n",
        "* 特定用途的发行版\n",
        "* LiveCD测试发行版"
      ]
    },
    {
      "cell_type": "markdown",
      "metadata": {
        "id": "BZ-1U2YrqKYq",
        "colab_type": "text"
      },
      "source": [
        "###核心Linux发行版"
      ]
    },
    {
      "cell_type": "markdown",
      "metadata": {
        "id": "DY4yslpTqKXX",
        "colab_type": "text"
      },
      "source": [
        "| 发行版  |  描述 |\n",
        "| ------------ | ------------ |\n",
        "|  Slackware | 最早的Linux发行版中的一员，在Linux极客中比较流行  |\n",
        "|  Red Hat | 主要用于Internet服务器的商业发行版  |\n",
        "|  Fedora | 从Red Hat分离出的家用发行版  |\n",
        "|  Gentoo | 为高级Linux用户设计的发行版，仅包含Linux源代码  |\n",
        "|  openSUSE | 用于商用和家用的发行版  |\n",
        "| Debian  | 在Linux专家和商用Linux产品中流行的发行版  |\n",
        "\n",
        "\n"
      ]
    },
    {
      "cell_type": "markdown",
      "metadata": {
        "id": "qeKd3mOWqKVw",
        "colab_type": "text"
      },
      "source": [
        "### 特定用途的Linux发行版\n",
        "\n",
        "|  发行版 | 描述  |\n",
        "| ------------ | ------------ |\n",
        "|  CentOS | 一款基于Red Hat企业版Linux源代码构建的免费发行版  |\n",
        "|  Ubuntu |  一款用于学校和家庭的免费发行版 |\n",
        "|  PCLinuxOS |  一款用于家庭和办公的免费发行版 |\n",
        "|  Mint | 一款用于家庭娱乐的免费发行版  |\n",
        "|  dyne:bolic |  一款用于音频和MIDI应用的免费发行版 |\n",
        "|  Puppy Linux | 一款适用于老旧PC的小型免费发行版  |\n",
        "\n",
        "* 许多特定用途的Linux发行版都是基于Debian Linux。它们使用和Debian一样的安装文件，但 仅打包了完整Debian系统中的一小部分。"
      ]
    },
    {
      "cell_type": "markdown",
      "metadata": {
        "id": "cVyfNlW4qKTB",
        "colab_type": "text"
      },
      "source": [
        "### Linux LiveCD\n"
      ]
    },
    {
      "cell_type": "markdown",
      "metadata": {
        "id": "vW5eELnfqKQt",
        "colab_type": "text"
      },
      "source": [
        "|  发行版 | 描述  |\n",
        "| ------------ | ------------ |\n",
        "|  Knoppix | 来自德国的一款Linux发行版，也是最早的LiveCD Linux  |\n",
        "|  PCLinuxOS |  一款成熟的LiveCD形式的Linux发行版 |\n",
        "|  Ubuntu |  为多种语言设计的世界级Linux项目 |\n",
        "|  Slax | 基于Slackware Linux的一款LiveCD Linux  |\n",
        "|  Puppy Linux |  为老旧PC设计的一款全功能Linux |\n"
      ]
    },
    {
      "cell_type": "markdown",
      "metadata": {
        "id": "9zKDHSo6qKJ1",
        "colab_type": "text"
      },
      "source": [
        "## 小结"
      ]
    },
    {
      "cell_type": "markdown",
      "metadata": {
        "id": "vOT5OeVuqKH9",
        "colab_type": "text"
      },
      "source": [
        "* Linux内核是系统的核心，控制着内存、程序和硬件之间的交互。\n",
        "* GNU工具也是Linux系统中的一个重要部分。\n",
        "* 本书关注的焦点Linux shell是GNU核心工具集中的一部分。\n",
        "* Linux桌面环境"
      ]
    },
    {
      "cell_type": "markdown",
      "metadata": {
        "id": "hE6OuDGvqKFx",
        "colab_type": "text"
      },
      "source": [
        ""
      ]
    },
    {
      "cell_type": "markdown",
      "metadata": {
        "id": "0EZ_eoLbqKDB",
        "colab_type": "text"
      },
      "source": [
        ""
      ]
    }
  ]
}